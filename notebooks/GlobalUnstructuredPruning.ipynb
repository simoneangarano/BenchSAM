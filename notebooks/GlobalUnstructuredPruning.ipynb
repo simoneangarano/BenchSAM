{
 "cells": [
  {
   "cell_type": "code",
   "execution_count": null,
   "metadata": {},
   "outputs": [],
   "source": [
    "import requests\n",
    "\n",
    "import numpy as np\n",
    "from PIL import Image\n",
    "import matplotlib.pyplot as plt\n",
    "\n",
    "import torch\n",
    "from torch.nn.utils import prune\n",
    "from transformers import (SamModel, SamProcessor)\n",
    "\n",
    "from utils import show_points_on_image, show_masks_on_image"
   ]
  },
  {
   "cell_type": "code",
   "execution_count": null,
   "metadata": {},
   "outputs": [],
   "source": [
    "GPU = 3 # GPU to use\n",
    "TYPE = 'L1' # L1 or random\n",
    "SPARSITY = 0.3 # sparsity ratio\n",
    "SEED = 0 # random seed\n",
    "\n",
    "torch.manual_seed(SEED)\n",
    "np.random.seed(SEED)\n",
    "device = torch.device(f\"cuda:{GPU}\" if torch.cuda.is_available() else \"cpu\")"
   ]
  },
  {
   "cell_type": "markdown",
   "metadata": {},
   "source": [
    "# Prune"
   ]
  },
  {
   "cell_type": "code",
   "execution_count": null,
   "metadata": {},
   "outputs": [],
   "source": [
    "model = SamModel.from_pretrained(\"facebook/sam-vit-huge\").to(device).eval()\n",
    "processor = SamProcessor.from_pretrained(\"facebook/sam-vit-huge\")"
   ]
  },
  {
   "cell_type": "code",
   "execution_count": null,
   "metadata": {},
   "outputs": [],
   "source": [
    "lo = list(model.state_dict().keys())"
   ]
  },
  {
   "cell_type": "code",
   "execution_count": null,
   "metadata": {},
   "outputs": [],
   "source": [
    "with torch.no_grad():\n",
    "    to_prune = []\n",
    "    for name, module in model.named_modules():\n",
    "        if isinstance(module, torch.nn.Conv2d):\n",
    "            to_prune.append((module, 'weight'))\n",
    "        elif isinstance(module, torch.nn.Linear):\n",
    "            to_prune.append((module, 'weight'))\n",
    "\n",
    "    if TYPE == 'L1': ## L1 PRUNING ##\n",
    "        prune.global_unstructured(to_prune, pruning_method=prune.L1Unstructured, amount=SPARSITY)\n",
    "    elif TYPE == 'random': ## RANDOM PRUNING ##\n",
    "        prune.global_unstructured(to_prune, pruning_method=prune.RandomUnstructured, amount=SPARSITY)\n",
    "\n",
    "    for module, name in to_prune:\n",
    "        # print(f'Pruned {name} of type {type(module)}')\n",
    "        prune.remove(module, name)"
   ]
  },
  {
   "cell_type": "code",
   "execution_count": null,
   "metadata": {},
   "outputs": [],
   "source": [
    "lp = (model.state_dict().keys())"
   ]
  },
  {
   "cell_type": "code",
   "execution_count": null,
   "metadata": {},
   "outputs": [],
   "source": [
    "# Check that the set of pruned layers is the same\n",
    "lp - lo"
   ]
  },
  {
   "cell_type": "code",
   "execution_count": null,
   "metadata": {},
   "outputs": [],
   "source": [
    "model.save_pretrained(f'bin/GUP_{TYPE}_{int(SPARSITY*100)}/')"
   ]
  },
  {
   "cell_type": "markdown",
   "metadata": {},
   "source": [
    "# Evaluate"
   ]
  },
  {
   "cell_type": "code",
   "execution_count": null,
   "metadata": {},
   "outputs": [],
   "source": [
    "# Sparse SAM\n",
    "model = SamModel.from_pretrained(f'bin/GUP_{TYPE}_{int(SPARSITY*100)}/').to(device).eval()\n",
    "processor = SamProcessor.from_pretrained(\"facebook/sam-vit-huge\")"
   ]
  },
  {
   "cell_type": "code",
   "execution_count": null,
   "metadata": {},
   "outputs": [],
   "source": [
    "img_url = \"https://huggingface.co/ybelkada/segment-anything/resolve/main/assets/car.png\"\n",
    "raw_image = Image.open(requests.get(img_url, stream=True).raw).convert(\"RGB\")\n",
    "plt.imshow(raw_image)\n",
    "plt.show()"
   ]
  },
  {
   "cell_type": "code",
   "execution_count": null,
   "metadata": {},
   "outputs": [],
   "source": [
    "input_points = [[[450, 600]]]\n",
    "show_points_on_image(raw_image, input_points[0])\n",
    "\n",
    "inputs = processor(raw_image, input_points=input_points, return_tensors=\"pt\").to(device)\n",
    "image_embeddings = model.get_image_embeddings(inputs[\"pixel_values\"])\n",
    "\n",
    "\n",
    "inputs.pop(\"pixel_values\", None) # pixel_values are no more needed\n",
    "inputs.update({\"image_embeddings\": image_embeddings})\n",
    "\n",
    "with torch.no_grad():\n",
    "    outputs = model(**inputs)"
   ]
  },
  {
   "cell_type": "code",
   "execution_count": null,
   "metadata": {},
   "outputs": [],
   "source": [
    "masks = processor.image_processor.post_process_masks(outputs.pred_masks.cpu(), inputs[\"original_sizes\"].cpu(), inputs[\"reshaped_input_sizes\"].cpu())[0]\n",
    "scores = outputs.iou_scores\n",
    "show_masks_on_image(raw_image, masks, scores)"
   ]
  }
 ],
 "metadata": {
  "kernelspec": {
   "display_name": "semseg",
   "language": "python",
   "name": "python3"
  },
  "language_info": {
   "codemirror_mode": {
    "name": "ipython",
    "version": 3
   },
   "file_extension": ".py",
   "mimetype": "text/x-python",
   "name": "python",
   "nbconvert_exporter": "python",
   "pygments_lexer": "ipython3",
   "version": "3.9.18"
  },
  "orig_nbformat": 4
 },
 "nbformat": 4,
 "nbformat_minor": 2
}
